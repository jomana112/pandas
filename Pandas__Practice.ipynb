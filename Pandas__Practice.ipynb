{
 "cells": [
  {
   "cell_type": "markdown",
   "metadata": {
    "collapsed": true,
    "jupyter": {
     "outputs_hidden": true
    }
   },
   "source": [
    "# Part 1"
   ]
  },
  {
   "cell_type": "markdown",
   "metadata": {},
   "source": [
    "The file \"Purchase_Data.csv\" contains purchase data at a Chinese supermarket for various products.  Read this csv into a dataframe called df_data and use the head() method to check that you have read in the data correctly. Make sure you import pandas."
   ]
  },
  {
   "cell_type": "code",
   "execution_count": 94,
   "metadata": {},
   "outputs": [
    {
     "name": "stdout",
     "output_type": "stream",
     "text": [
      "      invoice_number   invoice_time store_id  product_id  category_id  \\\n",
      "0       2.020000e+11  7/15/15 10:45     G816     7000300       210101   \n",
      "1       2.020000e+11  7/15/15 12:16     G816     7070884        70203   \n",
      "2       2.020000e+11  7/15/15 12:16     G816     7070884        70203   \n",
      "3       2.020000e+11  7/15/15 12:16     G816     7070891        70401   \n",
      "4       2.020000e+11  7/15/15 12:16     G816     7090363        70401   \n",
      "...              ...            ...      ...         ...          ...   \n",
      "5377    2.020000e+11   9/5/15 23:07      300     7308017       210101   \n",
      "5378    2.020000e+11   9/5/15 23:23     G619     7070891        70401   \n",
      "5379    2.020000e+11   9/5/15 23:24     G619     7071096        70201   \n",
      "5380    2.020000e+11   9/5/15 23:32     G619    15000231        70301   \n",
      "5381    2.020000e+11   9/5/15 23:38     G619    23030206       210101   \n",
      "\n",
      "      num_item  price  \n",
      "0          1.0    2.0  \n",
      "1          1.0    2.0  \n",
      "2          1.0    2.0  \n",
      "3          1.0    6.0  \n",
      "4          1.0    6.0  \n",
      "...        ...    ...  \n",
      "5377       1.0    3.0  \n",
      "5378       1.0    6.0  \n",
      "5379       1.0    5.0  \n",
      "5380       2.0    2.0  \n",
      "5381       1.0    2.0  \n",
      "\n",
      "[5382 rows x 7 columns]\n"
     ]
    }
   ],
   "source": [
    "import pandas as pd \n",
    "df_data=pd.read_csv(r\"C:\\Users\\LAP TOP\\OneDrive\\Desktop\\my python projects\\python\\anaconda\\Pandas Practice assignment\\Data\\Purchase_Data.csv\")\n",
    "print (df_data)\n"
   ]
  },
  {
   "cell_type": "markdown",
   "metadata": {},
   "source": [
    "Use the dtypes attribute to view how each column is stored"
   ]
  },
  {
   "cell_type": "code",
   "execution_count": 95,
   "metadata": {
    "collapsed": false,
    "jupyter": {
     "outputs_hidden": false
    }
   },
   "outputs": [
    {
     "name": "stdout",
     "output_type": "stream",
     "text": [
      "invoice_number    float64\n",
      "invoice_time       object\n",
      "store_id           object\n",
      "product_id          int64\n",
      "category_id         int64\n",
      "num_item          float64\n",
      "price             float64\n",
      "dtype: object\n"
     ]
    }
   ],
   "source": [
    "print(df_data.dtypes)"
   ]
  },
  {
   "cell_type": "markdown",
   "metadata": {},
   "source": [
    "Slice the first two columns using .loc and store the result in a variable called result_1."
   ]
  },
  {
   "cell_type": "code",
   "execution_count": 96,
   "metadata": {
    "collapsed": false,
    "jupyter": {
     "outputs_hidden": false
    }
   },
   "outputs": [
    {
     "name": "stdout",
     "output_type": "stream",
     "text": [
      "      invoice_number   invoice_time\n",
      "0       2.020000e+11  7/15/15 10:45\n",
      "1       2.020000e+11  7/15/15 12:16\n",
      "2       2.020000e+11  7/15/15 12:16\n",
      "3       2.020000e+11  7/15/15 12:16\n",
      "4       2.020000e+11  7/15/15 12:16\n",
      "...              ...            ...\n",
      "5377    2.020000e+11   9/5/15 23:07\n",
      "5378    2.020000e+11   9/5/15 23:23\n",
      "5379    2.020000e+11   9/5/15 23:24\n",
      "5380    2.020000e+11   9/5/15 23:32\n",
      "5381    2.020000e+11   9/5/15 23:38\n",
      "\n",
      "[5382 rows x 2 columns]\n"
     ]
    }
   ],
   "source": [
    "result_1 = df_data.loc[:, [\"invoice_number\", \"invoice_time\"]]\n",
    "print(result_1)\n"
   ]
  },
  {
   "cell_type": "markdown",
   "metadata": {},
   "source": [
    "Slice the first two rows using .loc and store the result in a variable called result_2."
   ]
  },
  {
   "cell_type": "code",
   "execution_count": 97,
   "metadata": {
    "collapsed": false,
    "jupyter": {
     "outputs_hidden": false
    }
   },
   "outputs": [
    {
     "name": "stdout",
     "output_type": "stream",
     "text": [
      "   invoice_number   invoice_time store_id  product_id  category_id  num_item  \\\n",
      "0    2.020000e+11  7/15/15 10:45     G816     7000300       210101       1.0   \n",
      "1    2.020000e+11  7/15/15 12:16     G816     7070884        70203       1.0   \n",
      "\n",
      "   price  \n",
      "0    2.0  \n",
      "1    2.0  \n"
     ]
    }
   ],
   "source": [
    "result_2= df_data.loc[0:1]\n",
    "print(result_2)\n",
    "\n"
   ]
  },
  {
   "cell_type": "markdown",
   "metadata": {},
   "source": [
    "Slice the first four rows and the first five columns and store the result in a variable called result_3."
   ]
  },
  {
   "cell_type": "code",
   "execution_count": 98,
   "metadata": {
    "collapsed": false,
    "jupyter": {
     "outputs_hidden": false
    }
   },
   "outputs": [
    {
     "name": "stdout",
     "output_type": "stream",
     "text": [
      "   invoice_number   invoice_time store_id  product_id  category_id\n",
      "0    2.020000e+11  7/15/15 10:45     G816     7000300       210101\n",
      "1    2.020000e+11  7/15/15 12:16     G816     7070884        70203\n",
      "2    2.020000e+11  7/15/15 12:16     G816     7070884        70203\n",
      "3    2.020000e+11  7/15/15 12:16     G816     7070891        70401\n",
      "________________________________________\n",
      "   invoice_number   invoice_time store_id  product_id  category_id\n",
      "0    2.020000e+11  7/15/15 10:45     G816     7000300       210101\n",
      "1    2.020000e+11  7/15/15 12:16     G816     7070884        70203\n",
      "2    2.020000e+11  7/15/15 12:16     G816     7070884        70203\n",
      "3    2.020000e+11  7/15/15 12:16     G816     7070891        70401\n"
     ]
    }
   ],
   "source": [
    "result_3 = df_data.loc[0:3, [\"invoice_number\", \"invoice_time\",\"store_id\", \"product_id\", \"category_id\"]]\n",
    "print(result_3)\n",
    "print(\"__\"*20)\n",
    "# anthor way \n",
    "result_0 = df_data.iloc[0:4, 0:5]  \n",
    "print(result_0)\n",
    "\n"
   ]
  },
  {
   "cell_type": "markdown",
   "metadata": {},
   "source": [
    "Slice rows 0,4,6 and columns invoice time and price and store the result in variable called result_4."
   ]
  },
  {
   "cell_type": "code",
   "execution_count": 99,
   "metadata": {
    "collapsed": false,
    "jupyter": {
     "outputs_hidden": false
    }
   },
   "outputs": [
    {
     "name": "stdout",
     "output_type": "stream",
     "text": [
      "    invoice_time  price\n",
      "0  7/15/15 10:45    2.0\n",
      "1  7/15/15 12:16    2.0\n",
      "2  7/15/15 12:16    2.0\n",
      "3  7/15/15 12:16    6.0\n"
     ]
    }
   ],
   "source": [
    " result_4=df_data.loc[0:3,[\"invoice_time\",\"price\"]]\n",
    " print( result_4)"
   ]
  },
  {
   "cell_type": "markdown",
   "metadata": {},
   "source": [
    "Store the number rows in a variable called num_rows."
   ]
  },
  {
   "cell_type": "code",
   "execution_count": 100,
   "metadata": {
    "collapsed": false,
    "jupyter": {
     "outputs_hidden": false
    }
   },
   "outputs": [
    {
     "name": "stdout",
     "output_type": "stream",
     "text": [
      "5382\n"
     ]
    }
   ],
   "source": [
    "num_rows=df_data.shape[0]\n",
    "print(num_rows)\n"
   ]
  },
  {
   "cell_type": "markdown",
   "metadata": {},
   "source": [
    "Print out the last row of the data to dataframe. **Hint:** use the variable num_rows from the previous exercise."
   ]
  },
  {
   "cell_type": "code",
   "execution_count": 101,
   "metadata": {
    "collapsed": false,
    "jupyter": {
     "outputs_hidden": false
    }
   },
   "outputs": [
    {
     "name": "stdout",
     "output_type": "stream",
     "text": [
      "invoice_number    202000000000.0\n",
      "invoice_time        9/5/15 23:38\n",
      "store_id                    G619\n",
      "product_id              23030206\n",
      "category_id               210101\n",
      "num_item                     1.0\n",
      "price                        2.0\n",
      "Name: 5381, dtype: object\n"
     ]
    }
   ],
   "source": [
    " last_row = df_data.iloc[num_rows - 1]  \n",
    "print(last_row)\n",
    "\n"
   ]
  },
  {
   "cell_type": "markdown",
   "metadata": {},
   "source": [
    "# Part 2"
   ]
  },
  {
   "cell_type": "markdown",
   "metadata": {},
   "source": [
    "Compute the average and max price charged.  Store the results in variables called avg_price and max_price"
   ]
  },
  {
   "cell_type": "code",
   "execution_count": 102,
   "metadata": {
    "collapsed": false,
    "jupyter": {
     "outputs_hidden": false
    }
   },
   "outputs": [
    {
     "name": "stdout",
     "output_type": "stream",
     "text": [
      "Average Price: 3.1920522110741363\n",
      "Max Price: 6.01\n"
     ]
    }
   ],
   "source": [
    "#Write your code here\n",
    "avg_price = df_data['price'].mean() \n",
    "max_price = df_data['price'].max()  \n",
    "print(f\"Average Price: {avg_price}\")\n",
    "print(f\"Max Price: {max_price}\")\n",
    "\n"
   ]
  },
  {
   "cell_type": "markdown",
   "metadata": {},
   "source": [
    "Compute the average price and average number of items purchased with only a single call to the mean() method. Store these averages in avg_price and avg_num_items."
   ]
  },
  {
   "cell_type": "code",
   "execution_count": 103,
   "metadata": {
    "collapsed": false,
    "jupyter": {
     "outputs_hidden": false
    }
   },
   "outputs": [
    {
     "name": "stdout",
     "output_type": "stream",
     "text": [
      "Average Price: 3.1920522110741363\n",
      "Average Number of Items: 1.2983091787439613\n"
     ]
    }
   ],
   "source": [
    "avg_price, avg_num_item = df_data[['price', 'num_item']].mean()\n",
    "print(f\"Average Price: {avg_price}\")\n",
    "print(f\"Average Number of Items: {avg_num_item}\")\n"
   ]
  },
  {
   "cell_type": "markdown",
   "metadata": {},
   "source": [
    "Create a column called \"total\", which is the product of the price and num_item columns."
   ]
  },
  {
   "cell_type": "code",
   "execution_count": 104,
   "metadata": {
    "collapsed": false,
    "jupyter": {
     "outputs_hidden": false
    }
   },
   "outputs": [
    {
     "name": "stdout",
     "output_type": "stream",
     "text": [
      "      invoice_number   invoice_time store_id  product_id  category_id  \\\n",
      "0       2.020000e+11  7/15/15 10:45     G816     7000300       210101   \n",
      "1       2.020000e+11  7/15/15 12:16     G816     7070884        70203   \n",
      "2       2.020000e+11  7/15/15 12:16     G816     7070884        70203   \n",
      "3       2.020000e+11  7/15/15 12:16     G816     7070891        70401   \n",
      "4       2.020000e+11  7/15/15 12:16     G816     7090363        70401   \n",
      "...              ...            ...      ...         ...          ...   \n",
      "5377    2.020000e+11   9/5/15 23:07      300     7308017       210101   \n",
      "5378    2.020000e+11   9/5/15 23:23     G619     7070891        70401   \n",
      "5379    2.020000e+11   9/5/15 23:24     G619     7071096        70201   \n",
      "5380    2.020000e+11   9/5/15 23:32     G619    15000231        70301   \n",
      "5381    2.020000e+11   9/5/15 23:38     G619    23030206       210101   \n",
      "\n",
      "      num_item  price  total  \n",
      "0          1.0    2.0    2.0  \n",
      "1          1.0    2.0    2.0  \n",
      "2          1.0    2.0    2.0  \n",
      "3          1.0    6.0    6.0  \n",
      "4          1.0    6.0    6.0  \n",
      "...        ...    ...    ...  \n",
      "5377       1.0    3.0    3.0  \n",
      "5378       1.0    6.0    6.0  \n",
      "5379       1.0    5.0    5.0  \n",
      "5380       2.0    2.0    4.0  \n",
      "5381       1.0    2.0    2.0  \n",
      "\n",
      "[5382 rows x 8 columns]\n",
      "________________________________________\n",
      "0       2.0\n",
      "1       2.0\n",
      "2       2.0\n",
      "3       6.0\n",
      "4       6.0\n",
      "       ... \n",
      "5377    3.0\n",
      "5378    6.0\n",
      "5379    5.0\n",
      "5380    4.0\n",
      "5381    2.0\n",
      "Name: total, Length: 5382, dtype: float64\n"
     ]
    }
   ],
   "source": [
    "df_data['total'] = df_data['price'] * df_data['num_item']\n",
    "print(df_data)\n",
    "print(\"__\"*20)\n",
    "print(df_data['total'])"
   ]
  },
  {
   "cell_type": "markdown",
   "metadata": {},
   "source": [
    "What is the avgerage price of the three most expensive purchases? "
   ]
  },
  {
   "cell_type": "code",
   "execution_count": 105,
   "metadata": {
    "collapsed": false,
    "jupyter": {
     "outputs_hidden": false
    }
   },
   "outputs": [
    {
     "name": "stdout",
     "output_type": "stream",
     "text": [
      "      invoice_number   invoice_time store_id  product_id  category_id  \\\n",
      "2979    2.020000e+11  8/21/15 12:14     6666     7070969        70401   \n",
      "761     2.020000e+11  7/24/15 16:47     G816     7090363        70401   \n",
      "4258    2.020000e+11  8/28/15 22:46     6666     7090363        70401   \n",
      "\n",
      "      num_item  price  total  \n",
      "2979       3.0   6.01  18.03  \n",
      "761        2.0   6.00  12.00  \n",
      "4258       1.0   6.00   6.00  \n"
     ]
    }
   ],
   "source": [
    "#Write your code here\n",
    "top_3_expensive = df_data.sort_values(by='price', ascending=False).head(3) \n",
    "print(top_3_expensive)"
   ]
  },
  {
   "cell_type": "markdown",
   "metadata": {},
   "source": [
    "How many different products are there?"
   ]
  },
  {
   "cell_type": "code",
   "execution_count": 106,
   "metadata": {
    "collapsed": false,
    "jupyter": {
     "outputs_hidden": false
    }
   },
   "outputs": [
    {
     "name": "stdout",
     "output_type": "stream",
     "text": [
      "[ 7000300  7070884  7070891  7090363  7000126  7308017 15000231  7071096\n",
      "  7000133  7071133  7314599  7000294  7313684  7071218  7314612  7090370\n",
      " 21000782 30000742  7308765  7000140  7070969 21000430  7000034  7000423\n",
      " 21050107 20098391 30000759 30000766  7000409  7090097  7071102  7071140\n",
      "  7071164  7000416 21000447 21000379 21000362 30000711  7090462  7090509\n",
      "  7071331 21050060 21050022  7090455  7090592 23030206  7090493  7071256\n",
      "  7071249  7090486  7090479  7071232  7090615]\n",
      "________________________________________\n",
      "0        7000300\n",
      "1        7070884\n",
      "3        7070891\n",
      "4        7090363\n",
      "6        7000126\n",
      "7        7308017\n",
      "8       15000231\n",
      "13       7071096\n",
      "16       7000133\n",
      "19       7071133\n",
      "23       7314599\n",
      "25       7000294\n",
      "34       7313684\n",
      "36       7071218\n",
      "39       7314612\n",
      "46       7090370\n",
      "49      21000782\n",
      "51      30000742\n",
      "59       7308765\n",
      "62       7000140\n",
      "73       7070969\n",
      "85      21000430\n",
      "135      7000034\n",
      "137      7000423\n",
      "175     21050107\n",
      "189     20098391\n",
      "210     30000759\n",
      "212     30000766\n",
      "213      7000409\n",
      "250      7090097\n",
      "270      7071102\n",
      "280      7071140\n",
      "296      7071164\n",
      "366      7000416\n",
      "409     21000447\n",
      "422     21000379\n",
      "432     21000362\n",
      "459     30000711\n",
      "475      7090462\n",
      "513      7090509\n",
      "548      7071331\n",
      "879     21050060\n",
      "1087    21050022\n",
      "1319     7090455\n",
      "2030     7090592\n",
      "2032    23030206\n",
      "2849     7090493\n",
      "3072     7071256\n",
      "3237     7071249\n",
      "3444     7090486\n",
      "3475     7090479\n",
      "3502     7071232\n",
      "4683     7090615\n",
      "Name: product_id, dtype: int64\n"
     ]
    }
   ],
   "source": [
    "#Write your code here\n",
    "unique_products = df_data['product_id'].unique()\n",
    "print(unique_products)\n",
    "print(\"__\"*20)\n",
    "#another way \n",
    "unique_products = df_data['product_id'].drop_duplicates()\n",
    "print(unique_products)\n"
   ]
  },
  {
   "cell_type": "markdown",
   "metadata": {},
   "source": [
    "Find the difference between the mean and median of the column total.  Use the describe() method and then index the dataframe it returns."
   ]
  },
  {
   "cell_type": "code",
   "execution_count": 107,
   "metadata": {
    "collapsed": false,
    "jupyter": {
     "outputs_hidden": false
    }
   },
   "outputs": [
    {
     "name": "stdout",
     "output_type": "stream",
     "text": [
      "Difference between mean and median: 0.9318078781127839\n"
     ]
    }
   ],
   "source": [
    "described_total=df_data[\"total\"].describe()\n",
    "mean_value = described_total['mean']\n",
    "median_value = described_total['50%']\n",
    "difference = mean_value - median_value\n",
    "print(f\"Difference between mean and median: {difference}\")"
   ]
  },
  {
   "cell_type": "markdown",
   "metadata": {},
   "source": [
    "Use the drop() method to delete the column total from the dataframe df_data."
   ]
  },
  {
   "cell_type": "code",
   "execution_count": 108,
   "metadata": {
    "collapsed": false,
    "jupyter": {
     "outputs_hidden": false
    }
   },
   "outputs": [
    {
     "name": "stdout",
     "output_type": "stream",
     "text": [
      "      invoice_number   invoice_time store_id  product_id  category_id  \\\n",
      "0       2.020000e+11  7/15/15 10:45     G816     7000300       210101   \n",
      "1       2.020000e+11  7/15/15 12:16     G816     7070884        70203   \n",
      "2       2.020000e+11  7/15/15 12:16     G816     7070884        70203   \n",
      "3       2.020000e+11  7/15/15 12:16     G816     7070891        70401   \n",
      "4       2.020000e+11  7/15/15 12:16     G816     7090363        70401   \n",
      "...              ...            ...      ...         ...          ...   \n",
      "5377    2.020000e+11   9/5/15 23:07      300     7308017       210101   \n",
      "5378    2.020000e+11   9/5/15 23:23     G619     7070891        70401   \n",
      "5379    2.020000e+11   9/5/15 23:24     G619     7071096        70201   \n",
      "5380    2.020000e+11   9/5/15 23:32     G619    15000231        70301   \n",
      "5381    2.020000e+11   9/5/15 23:38     G619    23030206       210101   \n",
      "\n",
      "      num_item  price  \n",
      "0          1.0    2.0  \n",
      "1          1.0    2.0  \n",
      "2          1.0    2.0  \n",
      "3          1.0    6.0  \n",
      "4          1.0    6.0  \n",
      "...        ...    ...  \n",
      "5377       1.0    3.0  \n",
      "5378       1.0    6.0  \n",
      "5379       1.0    5.0  \n",
      "5380       2.0    2.0  \n",
      "5381       1.0    2.0  \n",
      "\n",
      "[5382 rows x 7 columns]\n"
     ]
    }
   ],
   "source": [
    "#Write your code here\n",
    "drop_total=df_data.drop('total',axis=1)\n",
    "print(drop_total)"
   ]
  },
  {
   "cell_type": "markdown",
   "metadata": {},
   "source": [
    "Let's dig a little deeper into the data set and answer some basic question."
   ]
  },
  {
   "cell_type": "code",
   "execution_count": null,
   "metadata": {
    "collapsed": false,
    "jupyter": {
     "outputs_hidden": false
    }
   },
   "outputs": [],
   "source": [
    "#Write your code here\n"
   ]
  },
  {
   "cell_type": "markdown",
   "metadata": {},
   "source": [
    "First, covert the column invoice time to a datetime column. Print out the new column types to make sure this was done correctly"
   ]
  },
  {
   "cell_type": "code",
   "execution_count": 122,
   "metadata": {
    "collapsed": false,
    "jupyter": {
     "outputs_hidden": false
    }
   },
   "outputs": [
    {
     "name": "stdout",
     "output_type": "stream",
     "text": [
      "invoice_number           float64\n",
      "invoice_time      datetime64[ns]\n",
      "store_id                  object\n",
      "product_id                 int64\n",
      "category_id                int64\n",
      "num_item                 float64\n",
      "price                    float64\n",
      "total                    float64\n",
      "DOW                        int32\n",
      "Month                      int32\n",
      "dtype: object\n"
     ]
    }
   ],
   "source": [
    "df_data['invoice_time'] = pd.to_datetime(df_data['invoice_time']) \n",
    "\n",
    "# Print the data types of all columns\n",
    "print(df_data.dtypes) "
   ]
  },
  {
   "cell_type": "markdown",
   "metadata": {},
   "source": [
    "Next, let's create columns called \"DOW\" and \"Month\", which store the corresponding weekday and month of the invoice respectively.  Print the head of the dataframe to make sure this was done correctly."
   ]
  },
  {
   "cell_type": "code",
   "execution_count": 110,
   "metadata": {
    "collapsed": false,
    "jupyter": {
     "outputs_hidden": false
    }
   },
   "outputs": [
    {
     "name": "stdout",
     "output_type": "stream",
     "text": [
      "   invoice_number        invoice_time store_id  product_id  category_id  \\\n",
      "0    2.020000e+11 2015-07-15 10:45:00     G816     7000300       210101   \n",
      "1    2.020000e+11 2015-07-15 12:16:00     G816     7070884        70203   \n",
      "2    2.020000e+11 2015-07-15 12:16:00     G816     7070884        70203   \n",
      "3    2.020000e+11 2015-07-15 12:16:00     G816     7070891        70401   \n",
      "4    2.020000e+11 2015-07-15 12:16:00     G816     7090363        70401   \n",
      "\n",
      "   num_item  price  total  DOW  Month  \n",
      "0       1.0    2.0    2.0    2      7  \n",
      "1       1.0    2.0    2.0    2      7  \n",
      "2       1.0    2.0    2.0    2      7  \n",
      "3       1.0    6.0    6.0    2      7  \n",
      "4       1.0    6.0    6.0    2      7  \n"
     ]
    }
   ],
   "source": [
    "#Write your code  \n",
    "df_data['DOW'] = df_data['invoice_time'].dt.weekday\n",
    "df_data['Month'] = df_data['invoice_time'].dt.month\n",
    "print(df_data.head())\n"
   ]
  },
  {
   "cell_type": "markdown",
   "metadata": {},
   "source": [
    "Create a variable called num_purchases_wed, which stores the number of purchases made on Wednesday?  You should use value_counts and then index the series it return."
   ]
  },
  {
   "cell_type": "code",
   "execution_count": 111,
   "metadata": {
    "collapsed": false,
    "jupyter": {
     "outputs_hidden": false
    }
   },
   "outputs": [
    {
     "name": "stdout",
     "output_type": "stream",
     "text": [
      "Number of purchases made on Wednesday: 959\n"
     ]
    }
   ],
   "source": [
    "#Write your code here\n",
    "num_purchases_wed= df_data['DOW'].value_counts()[2]\n",
    "print(f\"Number of purchases made on Wednesday: {num_purchases_wed}\")"
   ]
  },
  {
   "cell_type": "markdown",
   "metadata": {},
   "source": [
    "# Part 3"
   ]
  },
  {
   "cell_type": "markdown",
   "metadata": {},
   "source": [
    "In this set of practice exercises, we will be working with a demographic data regarding the passengers aboard the Titanic.  Read in the data frame and use the head() method to check that it was read in correctly."
   ]
  },
  {
   "cell_type": "code",
   "execution_count": 112,
   "metadata": {
    "collapsed": false,
    "jupyter": {
     "outputs_hidden": false
    }
   },
   "outputs": [
    {
     "name": "stdout",
     "output_type": "stream",
     "text": [
      "   PassengerId  Pclass                                          Name     Sex  \\\n",
      "0          892       3                              Kelly, Mr. James    male   \n",
      "1          893       3              Wilkes, Mrs. James (Ellen Needs)  female   \n",
      "2          894       2                     Myles, Mr. Thomas Francis    male   \n",
      "3          895       3                              Wirz, Mr. Albert    male   \n",
      "4          896       3  Hirvonen, Mrs. Alexander (Helga E Lindqvist)  female   \n",
      "\n",
      "    Age  SibSp  Parch   Ticket     Fare Cabin Embarked  \n",
      "0  34.5      0      0   330911   7.8292   NaN        Q  \n",
      "1  47.0      1      0   363272   7.0000   NaN        S  \n",
      "2  62.0      0      0   240276   9.6875   NaN        Q  \n",
      "3  27.0      0      0   315154   8.6625   NaN        S  \n",
      "4  22.0      1      1  3101298  12.2875   NaN        S  \n"
     ]
    }
   ],
   "source": [
    "#Write your code here\n",
    "import pandas as pd \n",
    "df_titanic=pd.read_csv(r\"C:\\Users\\LAP TOP\\OneDrive\\Desktop\\my python projects\\python\\anaconda\\Pandas Practice assignment\\Data\\Titanic.csv\").head()\n",
    "print (df_titanic)"
   ]
  },
  {
   "cell_type": "markdown",
   "metadata": {},
   "source": [
    "Use the rename method to change the column \"Name\" to \"Passenger_Name\" and the column \"Ticket\" to \"Ticket_Num\"."
   ]
  },
  {
   "cell_type": "code",
   "execution_count": 113,
   "metadata": {
    "collapsed": false,
    "jupyter": {
     "outputs_hidden": false
    }
   },
   "outputs": [
    {
     "name": "stdout",
     "output_type": "stream",
     "text": [
      "   PassengerId  Pclass                                Passenger_Name     Sex  \\\n",
      "0          892       3                              Kelly, Mr. James    male   \n",
      "1          893       3              Wilkes, Mrs. James (Ellen Needs)  female   \n",
      "2          894       2                     Myles, Mr. Thomas Francis    male   \n",
      "3          895       3                              Wirz, Mr. Albert    male   \n",
      "4          896       3  Hirvonen, Mrs. Alexander (Helga E Lindqvist)  female   \n",
      "\n",
      "    Age  SibSp  Parch Ticket_Num     Fare Cabin Embarked  \n",
      "0  34.5      0      0     330911   7.8292   NaN        Q  \n",
      "1  47.0      1      0     363272   7.0000   NaN        S  \n",
      "2  62.0      0      0     240276   9.6875   NaN        Q  \n",
      "3  27.0      0      0     315154   8.6625   NaN        S  \n",
      "4  22.0      1      1    3101298  12.2875   NaN        S  \n"
     ]
    }
   ],
   "source": [
    "df_titanic.rename(columns={\"Name\": \"Passenger_Name\", \"Ticket\": \"Ticket_Num\"}, inplace=True)\n",
    "print(df_titanic.head())\n"
   ]
  },
  {
   "cell_type": "markdown",
   "metadata": {},
   "source": [
    "Change the index of the df_titanic to the column PasengerID.     "
   ]
  },
  {
   "cell_type": "code",
   "execution_count": 114,
   "metadata": {
    "collapsed": false,
    "jupyter": {
     "outputs_hidden": false
    },
    "scrolled": true
   },
   "outputs": [
    {
     "name": "stdout",
     "output_type": "stream",
     "text": [
      "             Pclass                                Passenger_Name     Sex  \\\n",
      "PassengerId                                                                 \n",
      "892               3                              Kelly, Mr. James    male   \n",
      "893               3              Wilkes, Mrs. James (Ellen Needs)  female   \n",
      "894               2                     Myles, Mr. Thomas Francis    male   \n",
      "895               3                              Wirz, Mr. Albert    male   \n",
      "896               3  Hirvonen, Mrs. Alexander (Helga E Lindqvist)  female   \n",
      "\n",
      "              Age  SibSp  Parch Ticket_Num     Fare Cabin Embarked  \n",
      "PassengerId                                                         \n",
      "892          34.5      0      0     330911   7.8292   NaN        Q  \n",
      "893          47.0      1      0     363272   7.0000   NaN        S  \n",
      "894          62.0      0      0     240276   9.6875   NaN        Q  \n",
      "895          27.0      0      0     315154   8.6625   NaN        S  \n",
      "896          22.0      1      1    3101298  12.2875   NaN        S  \n"
     ]
    }
   ],
   "source": [
    "df_titanic.set_index('PassengerId', inplace=True)\n",
    "print(df_titanic.head())\n"
   ]
  },
  {
   "cell_type": "markdown",
   "metadata": {},
   "source": [
    "Select the name of passenger 896"
   ]
  },
  {
   "cell_type": "code",
   "execution_count": 115,
   "metadata": {
    "collapsed": false,
    "jupyter": {
     "outputs_hidden": false
    }
   },
   "outputs": [
    {
     "name": "stdout",
     "output_type": "stream",
     "text": [
      "Hirvonen, Mrs. Alexander (Helga E Lindqvist)\n"
     ]
    }
   ],
   "source": [
    "#Write your code \n",
    "passenger_name = df_titanic.loc[896, 'Passenger_Name']\n",
    "print(passenger_name)\n"
   ]
  },
  {
   "cell_type": "markdown",
   "metadata": {},
   "source": [
    "Change the index back to row numbers but making sure that we don't lose the PassengerId column. "
   ]
  },
  {
   "cell_type": "code",
   "execution_count": 116,
   "metadata": {
    "collapsed": false,
    "jupyter": {
     "outputs_hidden": false
    }
   },
   "outputs": [
    {
     "name": "stdout",
     "output_type": "stream",
     "text": [
      "   PassengerId  Pclass                                Passenger_Name     Sex  \\\n",
      "0          892       3                              Kelly, Mr. James    male   \n",
      "1          893       3              Wilkes, Mrs. James (Ellen Needs)  female   \n",
      "2          894       2                     Myles, Mr. Thomas Francis    male   \n",
      "3          895       3                              Wirz, Mr. Albert    male   \n",
      "4          896       3  Hirvonen, Mrs. Alexander (Helga E Lindqvist)  female   \n",
      "\n",
      "    Age  SibSp  Parch Ticket_Num     Fare Cabin Embarked  \n",
      "0  34.5      0      0     330911   7.8292   NaN        Q  \n",
      "1  47.0      1      0     363272   7.0000   NaN        S  \n",
      "2  62.0      0      0     240276   9.6875   NaN        Q  \n",
      "3  27.0      0      0     315154   8.6625   NaN        S  \n",
      "4  22.0      1      1    3101298  12.2875   NaN        S  \n"
     ]
    }
   ],
   "source": [
    "#Write your code here \n",
    "df_titanic.reset_index(drop=False, inplace=True)\n",
    "print(df_titanic.head())\n"
   ]
  },
  {
   "cell_type": "markdown",
   "metadata": {},
   "source": [
    "How many missing entries are there in the Age column? Use the isnull() method and recall than Booleans are exactly like 1s (True) and 0s (False)."
   ]
  },
  {
   "cell_type": "code",
   "execution_count": 117,
   "metadata": {
    "collapsed": false,
    "jupyter": {
     "outputs_hidden": false
    }
   },
   "outputs": [
    {
     "name": "stdout",
     "output_type": "stream",
     "text": [
      "0\n"
     ]
    }
   ],
   "source": [
    "#Write you code here\n",
    "missing=df_titanic['Age'].isnull().sum()\n",
    "print(missing)"
   ]
  },
  {
   "cell_type": "markdown",
   "metadata": {},
   "source": [
    "Compute the avg age of passengers ignoring the missing data."
   ]
  },
  {
   "cell_type": "code",
   "execution_count": 118,
   "metadata": {
    "collapsed": false,
    "jupyter": {
     "outputs_hidden": false
    }
   },
   "outputs": [
    {
     "name": "stdout",
     "output_type": "stream",
     "text": [
      "38.5\n"
     ]
    }
   ],
   "source": [
    "#Write your code here\n",
    "avg_age = df_titanic['Age'].mean()\n",
    "print(avg_age)\n"
   ]
  },
  {
   "cell_type": "markdown",
   "metadata": {},
   "source": [
    "Using the fillna() method replace the missing values in the Age column with the mean."
   ]
  },
  {
   "cell_type": "code",
   "execution_count": 119,
   "metadata": {
    "collapsed": false,
    "jupyter": {
     "outputs_hidden": false
    }
   },
   "outputs": [
    {
     "name": "stdout",
     "output_type": "stream",
     "text": [
      "0    34.5\n",
      "1    47.0\n",
      "2    62.0\n",
      "3    27.0\n",
      "4    22.0\n",
      "Name: Age, dtype: float64\n"
     ]
    }
   ],
   "source": [
    "#Write your code here\n",
    "df_titanic['Age'] = df_titanic['Age'].fillna(avg_age)\n",
    "print(df_titanic['Age'])"
   ]
  },
  {
   "cell_type": "markdown",
   "metadata": {},
   "source": [
    "What is the average age of the 5 oldest passengers? The reset_index method will be helpful here."
   ]
  },
  {
   "cell_type": "code",
   "execution_count": 121,
   "metadata": {
    "collapsed": false,
    "jupyter": {
     "outputs_hidden": false
    }
   },
   "outputs": [
    {
     "name": "stdout",
     "output_type": "stream",
     "text": [
      "   PassengerId  Pclass                                Passenger_Name     Sex  \\\n",
      "2          894       2                     Myles, Mr. Thomas Francis    male   \n",
      "1          893       3              Wilkes, Mrs. James (Ellen Needs)  female   \n",
      "0          892       3                              Kelly, Mr. James    male   \n",
      "3          895       3                              Wirz, Mr. Albert    male   \n",
      "4          896       3  Hirvonen, Mrs. Alexander (Helga E Lindqvist)  female   \n",
      "\n",
      "    Age  SibSp  Parch Ticket_Num     Fare Cabin Embarked  \n",
      "2  62.0      0      0     240276   9.6875   NaN        Q  \n",
      "1  47.0      1      0     363272   7.0000   NaN        S  \n",
      "0  34.5      0      0     330911   7.8292   NaN        Q  \n",
      "3  27.0      0      0     315154   8.6625   NaN        S  \n",
      "4  22.0      1      1    3101298  12.2875   NaN        S  \n",
      "   PassengerId  Pclass                                Passenger_Name     Sex  \\\n",
      "0          894       2                     Myles, Mr. Thomas Francis    male   \n",
      "1          893       3              Wilkes, Mrs. James (Ellen Needs)  female   \n",
      "2          892       3                              Kelly, Mr. James    male   \n",
      "3          895       3                              Wirz, Mr. Albert    male   \n",
      "4          896       3  Hirvonen, Mrs. Alexander (Helga E Lindqvist)  female   \n",
      "\n",
      "    Age  SibSp  Parch Ticket_Num     Fare Cabin Embarked  \n",
      "0  62.0      0      0     240276   9.6875   NaN        Q  \n",
      "1  47.0      1      0     363272   7.0000   NaN        S  \n",
      "2  34.5      0      0     330911   7.8292   NaN        Q  \n",
      "3  27.0      0      0     315154   8.6625   NaN        S  \n",
      "4  22.0      1      1    3101298  12.2875   NaN        S  \n"
     ]
    },
    {
     "data": {
      "text/plain": [
       "38.5"
      ]
     },
     "execution_count": 121,
     "metadata": {},
     "output_type": "execute_result"
    }
   ],
   "source": [
    "#Write your code here\n",
    "top_5_olders = df_titanic.sort_values(by='Age', ascending=False).head(5) \n",
    "print(top_5_olders )\n",
    "top_5_oldest_reset = top_5_olders.reset_index(drop=True)\n",
    "print(top_5_oldest_reset)\n",
    "top_5_oldest_reset['Age'].mean()\n"
   ]
  },
  {
   "cell_type": "code",
   "execution_count": null,
   "metadata": {},
   "outputs": [],
   "source": []
  }
 ],
 "metadata": {
  "kernelspec": {
   "display_name": "Python 3 (ipykernel)",
   "language": "python",
   "name": "python3"
  },
  "language_info": {
   "codemirror_mode": {
    "name": "ipython",
    "version": 3
   },
   "file_extension": ".py",
   "mimetype": "text/x-python",
   "name": "python",
   "nbconvert_exporter": "python",
   "pygments_lexer": "ipython3",
   "version": "3.12.7"
  },
  "toc": {
   "nav_menu": {
    "height": "48px",
    "width": "252px"
   },
   "number_sections": true,
   "sideBar": true,
   "skip_h1_title": false,
   "toc_cell": false,
   "toc_position": {},
   "toc_section_display": "block",
   "toc_window_display": false
  }
 },
 "nbformat": 4,
 "nbformat_minor": 4
}
